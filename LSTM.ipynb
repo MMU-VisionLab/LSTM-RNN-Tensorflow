{
 "cells": [
  {
   "cell_type": "code",
   "execution_count": 1,
   "metadata": {},
   "outputs": [],
   "source": [
    "import tensorflow as tf\n",
    "import numpy as np\n",
    "import cv2, glob, os\n",
    "from sklearn.model_selection import train_test_split"
   ]
  },
  {
   "cell_type": "code",
   "execution_count": 2,
   "metadata": {},
   "outputs": [],
   "source": [
    "dataset_path = 'dataset/'\n",
    "classes = 4\n",
    "num_epochs = 10\n",
    "learning_rate = 0.0001\n",
    "width = 128\n",
    "height = 128\n",
    "Y = None\n",
    "Z = None\n",
    "tf.reset_default_graph()"
   ]
  },
  {
   "cell_type": "code",
   "execution_count": 3,
   "metadata": {},
   "outputs": [],
   "source": [
    "def load_frames():\n",
    "    global Z\n",
    "    global Y\n",
    "    label = None\n",
    "    X = []\n",
    "    filenum = 0\n",
    "    Y = np.zeros((40,4))\n",
    "    for file in glob.glob(dataset_path + '**', recursive=True):\n",
    "        num_frame = 0\n",
    "        if file == dataset_path:\n",
    "            continue\n",
    "        if os.path.isdir(file):\n",
    "            x_list = []\n",
    "            label = file[len(dataset_path):] #label   \n",
    "        if os.path.isfile(file):\n",
    "            x_list = []\n",
    "            vidcap = cv2.VideoCapture(file)\n",
    "            while(vidcap.isOpened()):\n",
    "                ret, frame = vidcap.read()\n",
    "                if ret == True:\n",
    "                    frame = cv2.cvtColor(frame, cv2.COLOR_BGR2GRAY)\n",
    "                    each_frame = cv2.resize(frame, (height, width))\n",
    "                    x_list.append(np.array(each_frame))\n",
    "                    num_frame +=1\n",
    "                else:\n",
    "                    X.append(np.array(x_list))\n",
    "                    vidcap.release()\n",
    "            Y[filenum, int(label)] = 1.0\n",
    "            filenum += 1\n",
    "\n",
    "   \n",
    "    Z = np.array(X)"
   ]
  },
  {
   "cell_type": "code",
   "execution_count": 4,
   "metadata": {},
   "outputs": [],
   "source": [
    "load_frames()"
   ]
  },
  {
   "cell_type": "code",
   "execution_count": 5,
   "metadata": {},
   "outputs": [],
   "source": [
    "X, X_test, Y, Y_test = train_test_split(Z,Y, test_size=0.0, random_state=30)"
   ]
  },
  {
   "cell_type": "code",
   "execution_count": 6,
   "metadata": {},
   "outputs": [],
   "source": [
    "class LSTM_RNN:\n",
    "    \n",
    "    def lstm_gates(self, prev_state, x):\n",
    "\n",
    "        self.Fgt_sigmoid_W = tf.get_variable('Fgt_sigmoid_W', shape=[height*width+100,100], dtype=tf.float64)\n",
    "        self.Fgt_sigmoid_b = tf.get_variable('Fgt_sigmoid_b', shape=[1,100], dtype=tf.float64)\n",
    "        \n",
    "        self.in_sigmoid_W = tf.get_variable('In_sigmoid_W', shape=[height*width+100,100], dtype=tf.float64)\n",
    "        self.in_sigmoid_b = tf.get_variable('In_sigmoid_b', shape=[1,100], dtype=tf.float64)\n",
    "        \n",
    "        self.in_tan_W = tf.get_variable('In_tan_W', shape=[height*width+100,100], dtype=tf.float64)\n",
    "        self.in_tan_b = tf.get_variable('In_tan_b', shape=[1,100], dtype=tf.float64)\n",
    "        \n",
    "        self.out_sigmoid_W = tf.get_variable('Out_sigmoid_W', shape=[height*width+100,100], dtype=tf.float64)\n",
    "        self.out_sigmoid_b = tf.get_variable('Out_sigmoid_b', shape=[1,100], dtype=tf.float64)\n",
    "        \n",
    "        self.out_tan_W = tf.get_variable('Out_tan_W', shape=[100,100], dtype=tf.float64)\n",
    "        self.out_tan_b = tf.get_variable('Out_tan_b', shape=[1,100], dtype=tf.float64)\n",
    "        \n",
    "        vectorized_input = tf.reshape(x, (1,height*width))\n",
    "        \n",
    "        self.conveyor_belt,self.output_belt = prev_state\n",
    "        self.concatenation = tf.concat([vectorized_input, self.output_belt], 1)\n",
    "        \n",
    "        self.forget_gate = tf.nn.sigmoid(tf.matmul(self.concatenation, self.Fgt_sigmoid_W) + self.Fgt_sigmoid_b)\n",
    "        self.forget_conveyor = tf.multiply(self.conveyor_belt, self.forget_gate)\n",
    "        \n",
    "        self.input_sig = tf.nn.sigmoid(tf.matmul(self.concatenation, self.in_sigmoid_W) + self.in_sigmoid_b)\n",
    "        self.input_tan = tf.nn.tanh(tf.matmul(self.concatenation, self.in_tan_W) + self.in_tan_b)\n",
    "        \n",
    "        self.input_concatenation = tf.multiply(self.input_sig, self.input_tan)\n",
    "        \n",
    "        self.conveyor_input = tf.add(self.forget_conveyor, self.input_concatenation)\n",
    "        \n",
    "        self.out_conveyor_sigmoid = tf.nn.sigmoid(tf.matmul(self.concatenation, self.out_sigmoid_W) + self.out_sigmoid_b)\n",
    "        self.out_conveyor_tan = tf.nn.tanh(tf.matmul(self.conveyor_input, self.out_tan_W) + self.out_tan_b)\n",
    "        \n",
    "        self.conveyor_output = tf.multiply(self.out_conveyor_sigmoid, self.out_conveyor_tan)\n",
    "        \n",
    "        return [self.conveyor_input, self.conveyor_output]\n",
    "        \n",
    "        \n",
    "\n",
    "    \n",
    "    def __init__(self):\n",
    "        self.X_placeholder = tf.placeholder(tf.float64, [None, width, height])\n",
    "        self.Y_placeholder = tf.placeholder(tf.int64, [1, classes])\n",
    "    \n",
    "        self.init_conveyor = tf.placeholder(tf.float64, [1,100])\n",
    "        self.init_output_conveyor = tf.placeholder(tf.float64, [1,100])\n",
    "        \n",
    "        self.O_w = tf.Variable(np.random.rand(100,4), dtype=tf.float64)\n",
    "        self.O_b = tf.Variable(np.random.rand(1,4), dtype=tf.float64)\n",
    "        \n",
    "        self.states = tf.scan(self.lstm_gates, self.X_placeholder, initializer=[self.init_conveyor, self.init_output_conveyor], name='states')\n",
    "        \n",
    "        \n",
    "        logit = tf.matmul(self.states[-1][1], self.O_w) + self.O_b\n",
    "        self.prediction = tf.nn.softmax(logit)\n",
    "       \n",
    "        self.loss = tf.nn.softmax_cross_entropy_with_logits_v2(logits=logit,labels=self.Y_placeholder)\n",
    "        self.train_step = tf.train.AdamOptimizer(learning_rate).minimize(self.loss)"
   ]
  },
  {
   "cell_type": "code",
   "execution_count": 7,
   "metadata": {},
   "outputs": [
    {
     "name": "stdout",
     "output_type": "stream",
     "text": [
      "Step 0 | Loss 71.1258\n",
      "Step 1 | Loss 56.6312\n",
      "Step 2 | Loss 56.1183\n",
      "Step 3 | Loss 55.9545\n",
      "Step 4 | Loss 55.9033\n",
      "Step 5 | Loss 55.8883\n",
      "Step 6 | Loss 55.8847\n",
      "Step 7 | Loss 55.8845\n",
      "Step 8 | Loss 55.8851\n",
      "Step 9 | Loss 55.8858\n"
     ]
    }
   ],
   "source": [
    "with tf.Session() as sess:\n",
    "    loss = 0.0\n",
    "    \n",
    "    model = LSTM_RNN()\n",
    "    sess.run(tf.global_variables_initializer())\n",
    "    \n",
    "    for epoch in range(num_epochs):\n",
    "        \n",
    "        for num_data in range(Y.shape[0]):\n",
    "            _current_state = np.zeros((1,100))\n",
    "            _current_state2 = np.zeros((1,100))\n",
    "            label = np.reshape(Y[num_data], (1,4))\n",
    "            \n",
    "            _loss, _train_step, _states, _prediction = sess.run(\n",
    "                [model.loss, model.train_step, model.states, model.prediction],\n",
    "                feed_dict = {\n",
    "                    model.X_placeholder:X[num_data],\n",
    "                    model.Y_placeholder:label,\n",
    "                    model.init_conveyor:_current_state,\n",
    "                    model.init_output_conveyor:_current_state2\n",
    "                })\n",
    "            loss += _loss\n",
    "        print(\"Step %d | Loss %g\"%(epoch, loss))\n",
    "        loss = 0.0  "
   ]
  }
 ],
 "metadata": {
  "kernelspec": {
   "display_name": "nasa",
   "language": "python",
   "name": "nasa"
  },
  "language_info": {
   "codemirror_mode": {
    "name": "ipython",
    "version": 3
   },
   "file_extension": ".py",
   "mimetype": "text/x-python",
   "name": "python",
   "nbconvert_exporter": "python",
   "pygments_lexer": "ipython3",
   "version": "3.5.2"
  }
 },
 "nbformat": 4,
 "nbformat_minor": 2
}
